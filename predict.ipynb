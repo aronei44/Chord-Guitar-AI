{
 "cells": [
  {
   "cell_type": "code",
   "execution_count": 1,
   "metadata": {},
   "outputs": [],
   "source": [
    "import torch\n",
    "device = torch.device(\"cuda\" if torch.cuda.is_available() else \"cpu\")"
   ]
  },
  {
   "cell_type": "code",
   "execution_count": 2,
   "metadata": {},
   "outputs": [],
   "source": [
    "from helper.label import classes\n",
    "from helper.audio_extraction.get_file_list import get_file_list\n",
    "from helper.audio_extraction.padded_and_windowed import extract_windowed_features\n",
    "from FeedForward import ChordAI"
   ]
  },
  {
   "cell_type": "code",
   "execution_count": 3,
   "metadata": {},
   "outputs": [
    {
     "data": {
      "text/plain": [
       "{'INPUT_SIZE': 528, 'OUTPUT_SIZE': 24}"
      ]
     },
     "execution_count": 3,
     "metadata": {},
     "output_type": "execute_result"
    }
   ],
   "source": [
    "config = torch.load('models/config.pth')\n",
    "config"
   ]
  },
  {
   "cell_type": "code",
   "execution_count": 4,
   "metadata": {},
   "outputs": [],
   "source": [
    "model = ChordAI(config['INPUT_SIZE'], config['OUTPUT_SIZE']).to(device)"
   ]
  },
  {
   "cell_type": "code",
   "execution_count": 5,
   "metadata": {},
   "outputs": [],
   "source": [
    "state_dict = torch.load(\"models/chord_model.pth\")"
   ]
  },
  {
   "cell_type": "code",
   "execution_count": 6,
   "metadata": {},
   "outputs": [
    {
     "data": {
      "text/plain": [
       "<All keys matched successfully>"
      ]
     },
     "execution_count": 6,
     "metadata": {},
     "output_type": "execute_result"
    }
   ],
   "source": [
    "model.load_state_dict(state_dict)"
   ]
  },
  {
   "cell_type": "code",
   "execution_count": 7,
   "metadata": {},
   "outputs": [],
   "source": [
    "test_files = get_file_list('./audio')"
   ]
  },
  {
   "cell_type": "code",
   "execution_count": 8,
   "metadata": {},
   "outputs": [
    {
     "name": "stderr",
     "output_type": "stream",
     "text": [
      "d:\\pribadi\\Chord Guitar AI\\venv\\lib\\site-packages\\librosa\\core\\spectrum.py:257: UserWarning: n_fft=1024 is too large for input signal of length=690\n",
      "  warnings.warn(\n",
      "d:\\pribadi\\Chord Guitar AI\\venv\\lib\\site-packages\\librosa\\core\\spectrum.py:257: UserWarning: n_fft=1024 is too large for input signal of length=345\n",
      "  warnings.warn(\n"
     ]
    },
    {
     "name": "stdout",
     "output_type": "stream",
     "text": [
      "windowed_features:  936\n",
      "test_windowed_features:  240\n"
     ]
    }
   ],
   "source": [
    "_, test_data = extract_windowed_features(test_files, classes, test_rate=0.2)"
   ]
  },
  {
   "cell_type": "code",
   "execution_count": 9,
   "metadata": {},
   "outputs": [],
   "source": [
    "def predict(model, inputs, target, class_mapping):\n",
    "    model.eval()\n",
    "    with torch.no_grad():\n",
    "        \n",
    "        inputs = torch.tensor(inputs, dtype=torch.float32)\n",
    "        inputs = inputs.to(device)\n",
    "        inputs = inputs.unsqueeze(0)\n",
    "        predictions = model(inputs)\n",
    "        predicted_index = predictions[0].argmax(0)\n",
    "        predicted = list(class_mapping)[predicted_index]\n",
    "        expected = list(class_mapping)[target]\n",
    "    return predicted, expected"
   ]
  },
  {
   "cell_type": "code",
   "execution_count": 10,
   "metadata": {},
   "outputs": [
    {
     "name": "stdout",
     "output_type": "stream",
     "text": [
      "Accuracy:  1.0\n"
     ]
    }
   ],
   "source": [
    "predicted_list = []\n",
    "data_right = 0\n",
    "data_len = 0\n",
    "for i in range(0, len(test_data), 25):\n",
    "    inputs, target = test_data[i][0], test_data[i][1]\n",
    "    predicted, expected = predict(model, inputs, target, classes)\n",
    "    predicted_list.append(predicted)\n",
    "    \n",
    "    predicted_list.append({\n",
    "        \"expected\": expected,\n",
    "        \"predicted\": predicted\n",
    "    })\n",
    "    data_len += 1\n",
    "    if predicted == expected:\n",
    "        data_right += 1\n",
    "\n",
    "print(\"Accuracy: \", data_right/data_len)"
   ]
  },
  {
   "cell_type": "code",
   "execution_count": 11,
   "metadata": {},
   "outputs": [
    {
     "name": "stdout",
     "output_type": "stream",
     "text": [
      "F#\n",
      "{'expected': 'F#', 'predicted': 'F#'}\n",
      "D#m\n",
      "{'expected': 'D#m', 'predicted': 'D#m'}\n",
      "Em\n",
      "{'expected': 'Em', 'predicted': 'Em'}\n",
      "Bm\n",
      "{'expected': 'Bm', 'predicted': 'Bm'}\n",
      "Am\n",
      "{'expected': 'Am', 'predicted': 'Am'}\n",
      "Gm\n",
      "{'expected': 'Gm', 'predicted': 'Gm'}\n",
      "G#m\n",
      "{'expected': 'G#m', 'predicted': 'G#m'}\n",
      "G\n",
      "{'expected': 'G', 'predicted': 'G'}\n",
      "Dm\n",
      "{'expected': 'Dm', 'predicted': 'Dm'}\n",
      "A\n",
      "{'expected': 'A', 'predicted': 'A'}\n"
     ]
    }
   ],
   "source": [
    "for i in range(0, len(predicted_list)):\n",
    "    print(predicted_list[i])"
   ]
  },
  {
   "cell_type": "code",
   "execution_count": null,
   "metadata": {},
   "outputs": [],
   "source": []
  }
 ],
 "metadata": {
  "kernelspec": {
   "display_name": "venv",
   "language": "python",
   "name": "python3"
  },
  "language_info": {
   "codemirror_mode": {
    "name": "ipython",
    "version": 3
   },
   "file_extension": ".py",
   "mimetype": "text/x-python",
   "name": "python",
   "nbconvert_exporter": "python",
   "pygments_lexer": "ipython3",
   "version": "3.10.11"
  }
 },
 "nbformat": 4,
 "nbformat_minor": 2
}
